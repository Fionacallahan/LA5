{
 "cells": [
  {
   "cell_type": "markdown",
   "id": "1addc56f-49fb-4149-a845-11da335e4d32",
   "metadata": {},
   "source": [
    "# MA5 NOTEBOOK LAB\n",
    "## FIONA CALLAHAN "
   ]
  },
  {
   "cell_type": "markdown",
   "id": "e90b053e-7556-461e-a1ee-0424ea915d39",
   "metadata": {},
   "source": [
    "### Task 1\n",
    "\n",
    "$\\log_{2}(a \\times b) = log_{2}a + log_{2}b$  \n",
    "$\\log_{2}(a / b) = log_{2}a - log_{2}b$  \n",
    "$\\log_{2}(a^{b}) = n \\times log_{2}a$  \n",
    "$\\log_{2}(1/a) = -log_{2}a$\n",
    "\n",
    "$\\sum_{i=1}^{i=m} \\sum_{j=1}^{j=n} a_{ij} = \\sum_{j=1}^{j=n} \\sum_{i=1}^{i=m} a_{ij}$\n",
    "\n",
    "[Buy the Bramer textbook!](https://a.co/d/fCPDxis)"
   ]
  },
  {
   "cell_type": "markdown",
   "id": "e6c58c87-f48a-4344-b8c6-610e5f2bde81",
   "metadata": {},
   "source": [
    "### Task 2\n",
    "\n",
    "$\\overline{x} = \\frac{\\sum x_{i}}{n}$"
   ]
  },
  {
   "cell_type": "code",
   "execution_count": 12,
   "id": "21526e5b-7c65-4fdb-8e94-ddad4e46a041",
   "metadata": {},
   "outputs": [
    {
     "name": "stdout",
     "output_type": "stream",
     "text": [
      "The avg of the first set is  5.91  and the average of the second set is  15.29\n"
     ]
    }
   ],
   "source": [
    "import random\n",
    "def compute_mean():\n",
    "    numbers = []\n",
    "    numbers2 = []\n",
    "    for i in range(0,100):\n",
    "        numbers.append(random.randint(1,10))\n",
    "    for j in range(0,100):\n",
    "        numbers2.append(random.randint(10,20))\n",
    "    sum_1 = sum(numbers)/len(numbers)\n",
    "    sum_2 = sum(numbers2)/len(numbers2)\n",
    "    \n",
    "    print(\"The avg of the first set is \", sum_1, \" and the average of the second set is \", sum_2)\n",
    "\n",
    "\n",
    "compute_mean()"
   ]
  },
  {
   "cell_type": "markdown",
   "id": "54db1590-f04e-4026-a31a-1c16d999d537",
   "metadata": {
    "jp-MarkdownHeadingCollapsed": true
   },
   "source": [
    "### Task 3\n",
    "\n",
    "![picture related to data science](https://i.pinimg.com/236x/d9/42/66/d94266793cf8cb2220810979e0ae926f.jpg)\n",
    "\n",
    "This meme is funny because it is a very nerdy statistics pun"
   ]
  }
 ],
 "metadata": {
  "kernelspec": {
   "display_name": "Python 3 (ipykernel)",
   "language": "python",
   "name": "python3"
  },
  "language_info": {
   "codemirror_mode": {
    "name": "ipython",
    "version": 3
   },
   "file_extension": ".py",
   "mimetype": "text/x-python",
   "name": "python",
   "nbconvert_exporter": "python",
   "pygments_lexer": "ipython3",
   "version": "3.12.4"
  }
 },
 "nbformat": 4,
 "nbformat_minor": 5
}
